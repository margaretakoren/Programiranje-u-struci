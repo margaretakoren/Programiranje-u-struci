{
 "cells": [
  {
   "cell_type": "markdown",
   "id": "c4be420c",
   "metadata": {},
   "source": [
    "Izračunajte eksponencijalnu funkciju aproksimirajući ju na sljedeći način:\n",
    "\n",
    "$$\n",
    "e^{x}=\\sum _{n=0}^{N }{\\frac {x^{n}}{n!}}=1+x+{\\frac {x^{2}}{2!}}+{\\frac {x^{3}}{3!}}+\\cdots \n",
    "$$\n",
    "\n",
    "N zadaje korisnik, a u niz je potrebno pohraniti aproksimaciju za svaki korak od 1 do N."
   ]
  },
  {
   "cell_type": "code",
   "execution_count": 1,
   "id": "ff969704-f763-450f-bc39-7f0cefd8d368",
   "metadata": {},
   "outputs": [],
   "source": [
    "import math"
   ]
  },
  {
   "cell_type": "code",
   "execution_count": 2,
   "id": "dad310c4",
   "metadata": {},
   "outputs": [
    {
     "name": "stdin",
     "output_type": "stream",
     "text": [
      "Unesite N:  2\n",
      "Unesite x:  3\n"
     ]
    },
    {
     "name": "stdout",
     "output_type": "stream",
     "text": [
      "[1.0, 4.0]\n"
     ]
    }
   ],
   "source": [
    "N = int(input(\"Unesite N: \"))\n",
    "x = float(input(\"Unesite x: \")) \n",
    "suma = 0 \n",
    "e = []\n",
    "\n",
    "for n in range(N):\n",
    "    suma += (x**n) / math.factorial(n)\n",
    "    e.append(suma)\n",
    "    \n",
    "print(e)"
   ]
  },
  {
   "cell_type": "markdown",
   "id": "cac7a45a",
   "metadata": {},
   "source": [
    "Zadana je širina (w) i duljina građevine (l), te visina (h) krova. Ukoliko krov postavljamo tako da je najviša točka krova na sredini dulje stranice građevine potrebno je izračunati površinu krova."
   ]
  },
  {
   "cell_type": "code",
   "execution_count": 3,
   "id": "1ddbc62f",
   "metadata": {},
   "outputs": [
    {
     "name": "stdin",
     "output_type": "stream",
     "text": [
      "Unesite širinu:  4\n",
      "Unesite duljinu:  6\n",
      "Unesite visinu:  8\n"
     ]
    },
    {
     "name": "stdout",
     "output_type": "stream",
     "text": [
      "68.35202996254024\n"
     ]
    }
   ],
   "source": [
    "w = int(input(\"Unesite širinu: \"))\n",
    "l = int(input(\"Unesite duljinu: \"))\n",
    "h = int(input(\"Unesite visinu: \"))\n",
    "\n",
    "if l > w:\n",
    "    vece = l\n",
    "    manje = w\n",
    "else:\n",
    "    vece = w\n",
    "    manje = l\n",
    "\n",
    "d = math.sqrt(((vece/2)**2) + h**2)\n",
    "A = 2 * d * manje\n",
    "\n",
    "print(A)"
   ]
  },
  {
   "cell_type": "markdown",
   "id": "235956fb",
   "metadata": {},
   "source": [
    "Proširite prethodni zadatak tako da vrati niz brojeva koji govori kolika bi bila površina krova ukoliko bismo visinu krova uzimali u rasponu između w i l (širine i duljina - ranije su zadane). Možete odabrati proizvoljan korak za odabir brojeva u tom rasponu."
   ]
  },
  {
   "cell_type": "code",
   "execution_count": 4,
   "id": "3160f4f9",
   "metadata": {},
   "outputs": [
    {
     "name": "stdout",
     "output_type": "stream",
     "text": [
      "[40.0, 46.647615158762406, 53.665631459994955]\n"
     ]
    }
   ],
   "source": [
    "lista = []\n",
    "h = manje\n",
    "\n",
    "while h <= vece:\n",
    "    d = math.sqrt(((vece / 2) ** 2) + h ** 2)\n",
    "    A = 2 * d * manje\n",
    "    lista.append(A)\n",
    "    h += 1\n",
    "\n",
    "print(lista)"
   ]
  },
  {
   "cell_type": "code",
   "execution_count": null,
   "id": "7718077f-6543-4b3c-aa9b-879aa679da4c",
   "metadata": {},
   "outputs": [],
   "source": []
  }
 ],
 "metadata": {
  "kernelspec": {
   "display_name": "Python 3 (ipykernel)",
   "language": "python",
   "name": "python3"
  },
  "language_info": {
   "codemirror_mode": {
    "name": "ipython",
    "version": 3
   },
   "file_extension": ".py",
   "mimetype": "text/x-python",
   "name": "python",
   "nbconvert_exporter": "python",
   "pygments_lexer": "ipython3",
   "version": "3.9.16"
  }
 },
 "nbformat": 4,
 "nbformat_minor": 5
}
