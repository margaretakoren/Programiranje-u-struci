{
 "cells": [
  {
   "cell_type": "markdown",
   "metadata": {},
   "source": [
    "# Grananja\n",
    "__Popunite što nedostaje (`____`) tako da ispis poruke bude smislen.__"
   ]
  },
  {
   "cell_type": "code",
   "execution_count": 1,
   "metadata": {
    "tags": []
   },
   "outputs": [
    {
     "name": "stdin",
     "output_type": "stream",
     "text": [
      "Ime: Margareta\n"
     ]
    },
    {
     "name": "stdout",
     "output_type": "stream",
     "text": [
      "Margareta\n"
     ]
    }
   ],
   "source": [
    "#ime = 'Ivana Brlić-Mažuranić'\n",
    "ime = input(\"Ime:\")\n",
    "print(ime)"
   ]
  },
  {
   "cell_type": "code",
   "execution_count": 2,
   "metadata": {},
   "outputs": [
    {
     "name": "stdout",
     "output_type": "stream",
     "text": [
      "Ime \"Margareta\" ima 8, 9 ili 10 znakova\n"
     ]
    }
   ],
   "source": [
    "if len(ime) > 20:\n",
    "    print('Ime \"{}\" ima više od 20 znakova'.format(ime))\n",
    "    duljina = 'jako dugačko ime'\n",
    "elif len(ime) > 15:\n",
    "    print('Ime \"{}\" ima više od 15 znakova'.format(ime))\n",
    "    duljina = 'dugačko ime'\n",
    "elif len(ime) > 10:\n",
    "    print('Ime \"{}\" ima više od 10 znakova'.format(ime))\n",
    "    duljina = 'srednje dugačko ime'\n",
    "elif 8 <= len(ime) <= 10:\n",
    "    print('Ime \"{}\" ima 8, 9 ili 10 znakova'.format(ime))\n",
    "    duljina = 'kratko ime'\n",
    "else:\n",
    "    print('Ime \"{}\" ima manje od 8 znakova'.format(ime))\n",
    "    duljina = 'jako kratko ime'"
   ]
  },
  {
   "cell_type": "code",
   "execution_count": 3,
   "metadata": {},
   "outputs": [],
   "source": [
    "assert duljina == 'kratko ime'"
   ]
  },
  {
   "cell_type": "markdown",
   "metadata": {},
   "source": [
    "## Zadatak\n",
    "\n",
    "__Učitaj 3 broja i ispiši koji je najveći__"
   ]
  },
  {
   "cell_type": "markdown",
   "metadata": {},
   "source": [
    "* Incijaliziranje prazne liste i ``max`` funkcija"
   ]
  },
  {
   "cell_type": "code",
   "execution_count": 4,
   "metadata": {
    "tags": []
   },
   "outputs": [
    {
     "name": "stdin",
     "output_type": "stream",
     "text": [
      "Unesi 1. broj:  5\n"
     ]
    },
    {
     "name": "stdout",
     "output_type": "stream",
     "text": [
      "5\n"
     ]
    },
    {
     "name": "stdin",
     "output_type": "stream",
     "text": [
      "Unesi 2. broj:  10\n"
     ]
    },
    {
     "name": "stdout",
     "output_type": "stream",
     "text": [
      "10\n"
     ]
    },
    {
     "name": "stdin",
     "output_type": "stream",
     "text": [
      "Unesi 3. broj:  5\n"
     ]
    },
    {
     "name": "stdout",
     "output_type": "stream",
     "text": [
      "5\n",
      "\n",
      "Najveći broj je 10\n"
     ]
    }
   ],
   "source": [
    "brojevi = []\n",
    "\n",
    "for i in range(3):\n",
    "    br = int(input(f\"Unesi {i+1}. broj: \"))\n",
    "    brojevi.append(br)\n",
    "    print(br)\n",
    "    \n",
    "najveći = max(brojevi)\n",
    "\n",
    "print(\"\\nNajveći broj je %d\" %najveći)"
   ]
  },
  {
   "cell_type": "markdown",
   "metadata": {},
   "source": [
    "* ``if``\n",
    "Pod uvjetom da su sva tri broja različita "
   ]
  },
  {
   "cell_type": "code",
   "execution_count": 5,
   "metadata": {
    "tags": []
   },
   "outputs": [
    {
     "name": "stdin",
     "output_type": "stream",
     "text": [
      "Upišite prvi broj:  27\n",
      "Upišite drugi broj:  20\n",
      "Upišite treći broj:  45\n"
     ]
    },
    {
     "name": "stdout",
     "output_type": "stream",
     "text": [
      "Prvi broj:27\n",
      "Drugi broj:20\n",
      "Treći broj:45\n"
     ]
    }
   ],
   "source": [
    "a=int(input('Upišite prvi broj: '))\n",
    "b=int(input('Upišite drugi broj: '))\n",
    "c=int(input('Upišite treći broj: '))\n",
    "print(f\"Prvi broj:{a}\\nDrugi broj:{b}\\nTreći broj:{c}\")\n",
    "\n",
    "if a<b<c:\n",
    "    print('Najveći broj je %d' %c)\n",
    "elif b<c<a:\n",
    "    print('Najveći broj je %d' %a)\n",
    "elif a<c<b:\n",
    "    print('Najveći broj je %d'%b)\n",
    "    "
   ]
  },
  {
   "cell_type": "markdown",
   "metadata": {},
   "source": [
    "* ``if`` sa pretpostavkom da je prvi broj najveći"
   ]
  },
  {
   "cell_type": "code",
   "execution_count": 6,
   "metadata": {
    "tags": []
   },
   "outputs": [
    {
     "name": "stdin",
     "output_type": "stream",
     "text": [
      "Upišite prvi broj:  53\n",
      "Upišite drugi broj:  1463\n",
      "Upišite treći broj:  756\n"
     ]
    },
    {
     "name": "stdout",
     "output_type": "stream",
     "text": [
      "Prvi broj:53\n",
      "Drugi broj:1463\n",
      "Treći broj:756\n",
      "Najveći broj je 1463\n"
     ]
    }
   ],
   "source": [
    "a = int(input('Upišite prvi broj: '))\n",
    "b = int(input('Upišite drugi broj: '))\n",
    "c = int(input('Upišite treći broj: '))\n",
    "\n",
    "print(f\"Prvi broj:{a}\\nDrugi broj:{b}\\nTreći broj:{c}\")\n",
    "\n",
    "najveci_br = a  \n",
    "\n",
    "if b > najveci_br:\n",
    "    najveci_br = b\n",
    "if c > najveci_br:\n",
    "    najveci_br = c\n",
    "\n",
    "print('Najveći broj je %d' % najveci_br)"
   ]
  },
  {
   "cell_type": "markdown",
   "metadata": {},
   "source": [
    "# Petlje\n",
    "\n",
    "## Zadatak\n",
    "\n",
    "__Učitaj N brojeva i ispiši koji je najveći.__"
   ]
  },
  {
   "cell_type": "markdown",
   "metadata": {},
   "source": [
    "* Incijaliziranje prazne liste i ``max``funckija"
   ]
  },
  {
   "cell_type": "code",
   "execution_count": 7,
   "metadata": {
    "tags": []
   },
   "outputs": [
    {
     "name": "stdin",
     "output_type": "stream",
     "text": [
      "Upiši vrijednost od N: 4\n",
      "Unesi 1 broj:  5\n",
      "Unesi 2 broj:  10\n",
      "Unesi 3 broj:  15\n",
      "Unesi 4 broj:  20\n"
     ]
    },
    {
     "name": "stdout",
     "output_type": "stream",
     "text": [
      "Brojevi:[5, 10, 15, 20]\n",
      "Najveći broj je 20\n"
     ]
    }
   ],
   "source": [
    "N = int(input(\"Upiši vrijednost od N:\"))\n",
    "\n",
    "brojevi = []\n",
    "\n",
    "for i in range(N):\n",
    "    br = int(input(f\"Unesi {i+1} broj: \"))\n",
    "    brojevi.append(br)\n",
    "    \n",
    "print(f\"Brojevi:{brojevi}\")\n",
    "    \n",
    "najveći = max(brojevi)\n",
    "\n",
    "print(\"Najveći broj je %d\" %najveći)"
   ]
  },
  {
   "cell_type": "markdown",
   "metadata": {},
   "source": [
    "* ``if`` "
   ]
  },
  {
   "cell_type": "code",
   "execution_count": 8,
   "metadata": {
    "tags": []
   },
   "outputs": [
    {
     "name": "stdin",
     "output_type": "stream",
     "text": [
      "Upiši vrijednost od N:  4\n",
      "Upiši vrijednost 1. broja:  63\n"
     ]
    },
    {
     "name": "stdout",
     "output_type": "stream",
     "text": [
      "63\n"
     ]
    },
    {
     "name": "stdin",
     "output_type": "stream",
     "text": [
      "Upiši vrijednost 2. broja:  46\n"
     ]
    },
    {
     "name": "stdout",
     "output_type": "stream",
     "text": [
      "46\n"
     ]
    },
    {
     "name": "stdin",
     "output_type": "stream",
     "text": [
      "Upiši vrijednost 3. broja:  765\n"
     ]
    },
    {
     "name": "stdout",
     "output_type": "stream",
     "text": [
      "765\n"
     ]
    },
    {
     "name": "stdin",
     "output_type": "stream",
     "text": [
      "Upiši vrijednost 4. broja:  234\n"
     ]
    },
    {
     "name": "stdout",
     "output_type": "stream",
     "text": [
      "234\n",
      "\n",
      "Najveći broj je 765\n"
     ]
    }
   ],
   "source": [
    "N = int(input(\"Upiši vrijednost od N: \"))\n",
    "najveci = int(input(\"Upiši vrijednost 1. broja: \"))\n",
    "\n",
    "print(najveci)\n",
    "\n",
    "for i in range(1, N):\n",
    "    n = int(input(f\"Upiši vrijednost {i+1}. broja: \"))\n",
    "    print(n)\n",
    "    if n > najveci:\n",
    "        najveci = n\n",
    "   \n",
    "\n",
    "print(\"\\nNajveći broj je %d\" % najveci)"
   ]
  },
  {
   "cell_type": "markdown",
   "metadata": {},
   "source": [
    "## Zadatak\n",
    "\n",
    "__Zbroji brojeve između A do B. (O brojevima A i B ništa ne znamo, ni jesu li pozitivni, ni je li B veći od A.)__"
   ]
  },
  {
   "cell_type": "markdown",
   "metadata": {},
   "source": [
    "* ``max``i ``min``funkcije"
   ]
  },
  {
   "cell_type": "code",
   "execution_count": 9,
   "metadata": {
    "tags": []
   },
   "outputs": [
    {
     "name": "stdin",
     "output_type": "stream",
     "text": [
      "Unesi prvi broj:  20\n",
      "Unesi drugi broj:  30\n"
     ]
    },
    {
     "name": "stdout",
     "output_type": "stream",
     "text": [
      "Broj A je 20\n",
      "broj B je 30\n",
      "Suma: 225\n"
     ]
    }
   ],
   "source": [
    "A = int(input('Unesi prvi broj: '))\n",
    "B = int(input('Unesi drugi broj: '))\n",
    "\n",
    "print(f\"Broj A je {A}\\nbroj B je {B}\")\n",
    "\n",
    "x = 0\n",
    "\n",
    "for i in range(min(A, B) + 1, max(A, B)):\n",
    "    x += i\n",
    "\n",
    "print(\"Suma: %d\" %x)"
   ]
  },
  {
   "cell_type": "markdown",
   "metadata": {},
   "source": [
    "* ``if``"
   ]
  },
  {
   "cell_type": "code",
   "execution_count": 10,
   "metadata": {
    "tags": []
   },
   "outputs": [
    {
     "name": "stdin",
     "output_type": "stream",
     "text": [
      "Unesi prvi broj:  30\n",
      "Unesi drugi broj:  20\n"
     ]
    },
    {
     "name": "stdout",
     "output_type": "stream",
     "text": [
      "Broj A je 30\n",
      "broj B je 20\n",
      "Suma: 225\n"
     ]
    }
   ],
   "source": [
    "A1 = int(input('Unesi prvi broj: '))\n",
    "B1 = int(input('Unesi drugi broj: '))\n",
    "\n",
    "print(f\"Broj A je {A1}\\nbroj B je {B1}\")\n",
    "\n",
    "x = 0\n",
    "\n",
    "if A1 < B1:\n",
    "    for i in range(A1 + 1, B1):\n",
    "        x += i\n",
    "    print(\"Suma: %d\" % x)\n",
    "else:\n",
    "    for i in range(B1 + 1, A1):\n",
    "        x += i\n",
    "    print(\"Suma: %d\" % x)"
   ]
  }
 ],
 "metadata": {
  "kernelspec": {
   "display_name": "Python 3 (ipykernel)",
   "language": "python",
   "name": "python3"
  },
  "language_info": {
   "codemirror_mode": {
    "name": "ipython",
    "version": 3
   },
   "file_extension": ".py",
   "mimetype": "text/x-python",
   "name": "python",
   "nbconvert_exporter": "python",
   "pygments_lexer": "ipython3",
   "version": "3.9.16"
  }
 },
 "nbformat": 4,
 "nbformat_minor": 4
}
